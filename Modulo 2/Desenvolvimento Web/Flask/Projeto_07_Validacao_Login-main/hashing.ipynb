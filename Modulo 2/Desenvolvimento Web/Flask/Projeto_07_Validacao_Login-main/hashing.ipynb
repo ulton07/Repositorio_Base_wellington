{
 "cells": [
  {
   "cell_type": "markdown",
   "id": "5a2c2df0",
   "metadata": {},
   "source": [
    "# CADASTRO"
   ]
  },
  {
   "cell_type": "code",
   "execution_count": 1,
   "id": "d9fb3c8a",
   "metadata": {},
   "outputs": [],
   "source": [
    "import json\n",
    "from werkzeug.security import generate_password_hash, check_password_hash\n",
    "\n",
    "nome = input('Digite seu nome: ')\n",
    "senha = input('Digite sua senha: ')\n",
    "\n",
    "with open('usuarios.json', 'r', encoding='utf-8') as f:\n",
    "    usuarios = json.load(f)\n",
    "\n",
    "usuario = {}\n",
    "usuario['nome'] = nome\n",
    "usuario['senha'] = generate_password_hash(senha)\n",
    "\n",
    "usuarios.append(usuario)\n",
    "\n",
    "with open('usuarios.json', 'w', encoding='utf-8') as f:\n",
    "    json.dump(usuarios, f, indent=4, ensure_ascii=False)\n"
   ]
  },
  {
   "cell_type": "markdown",
   "id": "6cc56bab",
   "metadata": {},
   "source": [
    "# LOGIN"
   ]
  },
  {
   "cell_type": "code",
   "execution_count": 2,
   "id": "c8827b44",
   "metadata": {},
   "outputs": [
    {
     "name": "stdout",
     "output_type": "stream",
     "text": [
      "Acesso permitido\n"
     ]
    }
   ],
   "source": [
    "import json\n",
    "from werkzeug.security import generate_password_hash, check_password_hash\n",
    "\n",
    "with open('usuarios.json', 'r', encoding='utf-8') as f:\n",
    "    usuarios = json.load(f)\n",
    "\n",
    "nome = input('Digite seu nome de usuário: ')\n",
    "\n",
    "\n",
    "for usuario in usuarios:\n",
    "    if usuario['nome'] == nome:\n",
    "        senha = input('Digite sua senha: ')\n",
    "        if check_password_hash(usuario['senha'], senha):\n",
    "            print('Acesso permitido')\n",
    "            break\n",
    "        else:\n",
    "            print('Senha incorreta! Acesso negado')\n",
    "            break\n",
    "    else:\n",
    "        print('Usuário não encontrado.')\n",
    "\n"
   ]
  }
 ],
 "metadata": {
  "kernelspec": {
   "display_name": "Python 3",
   "language": "python",
   "name": "python3"
  },
  "language_info": {
   "codemirror_mode": {
    "name": "ipython",
    "version": 3
   },
   "file_extension": ".py",
   "mimetype": "text/x-python",
   "name": "python",
   "nbconvert_exporter": "python",
   "pygments_lexer": "ipython3",
   "version": "3.13.2"
  }
 },
 "nbformat": 4,
 "nbformat_minor": 5
}
