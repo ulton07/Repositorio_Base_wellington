{
 "cells": [
  {
   "cell_type": "markdown",
   "id": "f6f38235",
   "metadata": {},
   "source": [
    "### ***API***\n",
    "\n",
    "***O Que é uma API?***   <img src=\"api2.png\" width = \"30\" heigth = \"50\" >\n",
    "\n",
    "\n",
    "API (Application Programming Interface) é uma interface que permite a comunicação entre diferentes sistemas ou aplicações.\n",
    "\n",
    "\n",
    "Em termos mais simples, uma API é como um garçom em um restaurante. Você, como cliente (aplicativo), faz um pedido (requisição) ao garçom (API), que por sua vez, leva o pedido à cozinha (outro sistema/aplicativo) e retorna com a resposta (dados ou funcionalidade solicitada). \n",
    "\n",
    "\n",
    "\n",
    "<img src = \"primeiro_exemplo.png\" width = \"800\" heigth = \"600\">\n",
    "\n",
    "\n",
    "\n",
    "\n",
    "\n"
   ]
  },
  {
   "cell_type": "markdown",
   "id": "0abfb134",
   "metadata": {},
   "source": [
    "### Tipos de API <img src=\"api.png\" width = \"30\" heigth = \"50\" >"
   ]
  },
  {
   "cell_type": "markdown",
   "id": "e8743592",
   "metadata": {},
   "source": [
    "Tipos de APIs:\n",
    "\n",
    "- SOAP\n",
    "\n",
    "- REST\n",
    "\n",
    "- GraphQL\n",
    "\n",
    "- gRPC\n",
    "\n"
   ]
  },
  {
   "cell_type": "markdown",
   "id": "01c016a9",
   "metadata": {},
   "source": [
    "**### O que é REST?** <img src=\"api2.png\" width = \"30\" heigth = \"50\" >\n",
    "\n",
    "REST (Representational State Transfer): Arquitetura baseada em HTTP para APIs.\n",
    "\n",
    "Princípios:\n",
    "\n",
    "- Stateless: Cada requisição tem toda informação necessária.\n",
    "\n",
    "\n",
    "- Recursos (Resources): Tudo é um recurso (usuários, produtos).\n",
    "\n",
    "\n",
    "- Métodos HTTP: GET, POST, PUT, DELETE, etc.\n",
    "\n"
   ]
  },
  {
   "cell_type": "markdown",
   "id": "d28437cf",
   "metadata": {},
   "source": [
    "### Questões Mediadoras <img src=\"question.png\" width = \"30\" heigth = \"50\" >\n",
    "\n",
    "- **Qual a função de uma API?**\n",
    "\n",
    "\n",
    "- **Quantos tipos de APIs foram apresentados no material?**\n",
    "\n",
    "\n",
    "\n",
    "\n",
    "\n",
    "<img src = \"questoes.png\" width = \"800\" heigth = \"600\">\n",
    "\n"
   ]
  },
  {
   "attachments": {
    "image-2.png": {
     "image/png": "[encoded data removed]"
    }
   },
   "cell_type": "markdown",
   "id": "0645e7d2",
   "metadata": {},
   "source": [
    "### Métodos HTTP no REST\n",
    "\n",
    "![image-2.png](attachment:image-2.png)"
   ]
  },
  {
   "cell_type": "markdown",
   "id": "9d1c9e1e",
   "metadata": {},
   "source": [
    "### Exemplo Prático"
   ]
  },
  {
   "cell_type": "code",
   "execution_count": null,
   "id": "b9204f77",
   "metadata": {},
   "outputs": [],
   "source": [
    "### importando as bibliotecas Python\n",
    "import requests\n",
    "import json\n",
    "\n",
    "#Aqui está o link da documentação dessa API\n",
    "documentacao = \"https://docs.awesomeapi.com.br/api-de-moedas\"\n",
    "\n",
    "cotacao = requests.get('https://economia.awesomeapi.com.br/json/all')\n",
    "cotacao_dic = cotacao.json()\n",
    "print(cotacao)\n",
    "print(cotacao_dic)\n",
    "\n",
    "print(\"\\n-------------- Requisição Feita ------------------------\\n\")\n",
    "\n",
    "### Como a nossa requisição deu certo, vamos fazer um teste pegando a cotação do dolar.\n",
    "\n",
    "print(f\"O Dolar hoje : R${float(cotacao_dic['USD']['bid']):.2f} 🤑💰💸!!!\")"
   ]
  },
  {
   "cell_type": "markdown",
   "id": "f6c18b0f",
   "metadata": {},
   "source": [
    "### Sua Vez, mão na massa!!\n",
    "\n",
    "Adapte o exemplo anterior para pegar a cotação do **euro** hoje."
   ]
  },
  {
   "cell_type": "code",
   "execution_count": null,
   "id": "b96dddb1",
   "metadata": {},
   "outputs": [],
   "source": [
    "### Seu código aqui"
   ]
  },
  {
   "cell_type": "markdown",
   "id": "34992eb0",
   "metadata": {},
   "source": [
    "### Principais Status Codes em APIs REST 👨‍💻"
   ]
  },
  {
   "cell_type": "markdown",
   "id": "d24eb6df",
   "metadata": {},
   "source": [
    "| Código | Nome                 | Definição                                      | Exemplo de Uso                          |\n",
    "|--------|----------------------|-----------------------------------------------|-----------------------------------------|\n",
    "| 200    | OK                   | Requisição bem-sucedida                       | GET /users retorna lista                |\n",
    "| 201    | Created              | Recurso criado com sucesso                    | POST /users cria novo usuário           |\n",
    "| 204    | No Content           | Sucesso sem conteúdo na resposta              | DELETE /users/1 remove usuário          |\n",
    "| 400    | Bad Request          | Requisição inválida (dados incorretos)        | POST sem campo obrigatório              |\n",
    "| 401    | Unauthorized         | Falha de autenticação                         | Acesso sem token válido                 |\n",
    "| 403    | Forbidden            | Acesso negado (sem permissão)                 | Usuário comum acessando rota de admin   |\n",
    "| 404    | Not Found            | Recurso não encontrado                        | GET /users/999 (ID inexistente)         |\n",
    "| 405    | Method Not Allowed   | Método HTTP não suportado                     | PUT em rota que só aceita GET           |\n",
    "| 409    | Conflict             | Conflito (recurso já existe)                  | POST com e-mail já cadastrado           |\n",
    "| 500    | Internal Server Error| Erro genérico no servidor                     | Bug não tratado no backend              |\n",
    "\n"
   ]
  },
  {
   "cell_type": "markdown",
   "id": "7c4b27a2",
   "metadata": {},
   "source": [
    "### REST VS RESTFUL 🆚\n",
    "\n",
    "| Característica       | REST                          | RESTful                       |\n",
    "|----------------------|-------------------------------|-------------------------------|\n",
    "| **Adesão**           | Princípios gerais             | Segue TODOS os princípios REST |\n",
    "| **Flexibilidade**    | Pode ser parcialmente aplicado | Altamente padronizado        |\n",
    "| **Métodos HTTP**     | Usa alguns métodos            | Usa todos métodos adequados   |\n",
    "| **URIs**             | Podem ser menos descritivas   | Sempre descritivas e lógicas  |\n",
    "| **HATEOAS**          | Opcional                      | Obrigatório (hipermídia)     |\n",
    "| **Exemplo**         | `GET /getUsers`               | `GET /users`                 |"
   ]
  },
  {
   "cell_type": "markdown",
   "id": "5ba0dc6c",
   "metadata": {},
   "source": [
    "### ***Quando Usar REST?*** ✅\n",
    "\n",
    "✔ Microsserviços\n",
    "\n",
    "✔ Aplicações web/mobile\n",
    "\n",
    "✔ Integrações simples e rápidas\n",
    "\n",
    "### ***Quando NÃO usar?*** ❌\n",
    "\n",
    "❌ Sistemas com operações complexas (SOAP pode ser melhor).\n",
    "\n",
    "❌ Quando precisa de consultas personalizadas (GraphQL é mais eficiente)."
   ]
  },
  {
   "cell_type": "markdown",
   "id": "b889fe7c",
   "metadata": {},
   "source": [
    "### Comparativo com Outras Arquiteturas\n",
    "\n",
    "\n",
    "| Característica   | REST               | GraphQL            | SOAP               | gRPC              |\n",
    "|------------------|--------------------|--------------------|--------------------|-------------------|\n",
    "| **Protocolo**    | HTTP               | HTTP               | HTTP/SMTP          | HTTP/2            |\n",
    "| **Formato**      | JSON/XML           | JSON               | XML                | Protocol Buffers  |\n",
    "| **Performance**  | Alta               | Alta               | Baixa              | Muito Alta        |\n",
    "| **Flexibilidade**| Boa               | Excelente          | Rígida             | Moderada          |\n",
    "| **Tipagem**      | Fraca              | Forte              | Forte              | Muito Forte       |\n",
    "| **Casos de Uso** | APIs Web/Mobile    | Consultas complexas| Sistemas legados   | Microsserviços    |\n",
    "| **Complexidade** | Baixa              | Média              | Alta               | Média-Alta        |"
   ]
  },
  {
   "cell_type": "markdown",
   "id": "61f17334",
   "metadata": {},
   "source": [
    "### Conclusão 🎖️\n",
    "\n",
    "✅REST é simples, escalável e amplamente adotado.\n",
    "\n",
    "✅APIs + Python = ótima combinação para prototipagem.\n",
    "\n",
    "✅Próximos passos: Utilizar o Flask junto com APis, Adicionar autenticação (JWT), banco de dados real (SQLite), e documentação (Swagger).\n",
    "\n",
    "\n",
    "Qualquer Dúvida, procure o professor 🧑‍🏫 e utilize o material de apoio.\n",
    "\n",
    "Bons estudos 📚\n"
   ]
  }
 ],
 "metadata": {
  "kernelspec": {
   "display_name": "Python 3",
   "language": "python",
   "name": "python3"
  },
  "language_info": {
   "codemirror_mode": {
    "name": "ipython",
    "version": 3
   },
   "file_extension": ".py",
   "mimetype": "text/x-python",
   "name": "python",
   "nbconvert_exporter": "python",
   "pygments_lexer": "ipython3",
   "version": "3.13.0"
  }
 },
 "nbformat": 4,
 "nbformat_minor": 5
}
