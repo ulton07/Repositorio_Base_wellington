{
 "cells": [
  {
   "cell_type": "markdown",
   "id": "932e0276",
   "metadata": {},
   "source": [
    "### calcula Bonus"
   ]
  },
  {
   "cell_type": "code",
   "execution_count": null,
   "id": "34314333",
   "metadata": {},
   "outputs": [
    {
     "name": "stdout",
     "output_type": "stream",
     "text": [
      "vendedor 1 teve um desconto de R$0.50\n",
      "vendedor 2 ganhou um bonus de R$200.000000\n",
      "vendedor 3 ganhou um bonus de R$30.000000\n"
     ]
    }
   ],
   "source": [
    "#temos 3 vendedores\n",
    "\n",
    "#queremos saber a quantidade de venda\n",
    "\n",
    "#queremos saber o bonus dele:\n",
    "\n",
    "meta = 100\n",
    "\n",
    "#se o vendedor, vender mais que a meta, ele tem um bonus de 10%\n",
    "\n",
    "#se ele vender menos que a meta bonus = 0\n",
    "\n",
    "for i in range(1,4):\n",
    "    venda = float(input(f\"digite a quantidade de vendas do vendedor {i}:\"))\n",
    "    if venda > meta:\n",
    "        bonus = venda * 0.10\n",
    "        print(f\"vendedor {i} ganhou um bonus de R${bonus:2f}\")\n",
    "    elif venda < meta:\n",
    "         bonus = venda * -0.05\n",
    "         print(F\"vendedor {i} teve um desconto de R${bonus:.2f}\")\n",
    "    else:\n",
    "        bonus = 0\n",
    "        print(F\"vendedor {i} nao teve bonus nem desconto.\")     "
   ]
  },
  {
   "cell_type": "code",
   "execution_count": null,
   "id": "fe6b558f",
   "metadata": {},
   "outputs": [
    {
     "name": "stdout",
     "output_type": "stream",
     "text": [
      "primeiro vendedor ganhou um bonus de R$ 100.000000\n",
      "segundo vendedor ganhou um bonus de R$200.000000\n",
      "terceiro_vendedor ganhou um bonus de R$300.000000\n"
     ]
    }
   ],
   "source": [
    "#temos 3 vendedores\n",
    "primeiro_vendedor = float (input(f\"digite a quantidade de vendas do vendedor\"))\n",
    "segundo_vendedor = float (input(f\"digite a quantidade de vendas do vendedor\"))\n",
    "terceiro_vendedor = float (input(f\"digite a quantidade de vendas do vendedor\"))\n",
    "\n",
    "meta = 100\n",
    "\n",
    "if primeiro_vendedor >meta:\n",
    "    bonus = primeiro_vendedor * 0.10\n",
    "    print(f\"primeiro vendedor ganhou um bonus de R$ {bonus}\")\n",
    "else:\n",
    "    bonus = 0\n",
    "    print(f\"Voce nao bateu a meta, nao teve bonus {bonus}\")\n",
    "\n",
    "if segundo_vendedor >meta:\n",
    "    bonus = segundo_vendedor *0.10\n",
    "    print(f\"segundo vendedor ganhou um bonus de R${bonus}\")\n",
    "\n",
    "else:\n",
    "    print(\"segundo vendedor nao teve bonus nem desconto.\")\n",
    "\n",
    "\n",
    "if terceiro_vendedor > meta:\n",
    "    bonus = terceiro_vendedor *0.10\n",
    "    print(f\"terceiro_vendedor ganhou um bonus de R${bonus}\")\n",
    "\n",
    "else:\n",
    "    print(f\"terceiro_vendedor teve desconto por nao bater a meta\")  \n",
    "\n",
    "#queremos saber a quantidade de venda\n",
    "\n",
    "#queremos saber o bonus dele:\n",
    "\n",
    "\n",
    "\n",
    "#se o vendedor, vender mais que a meta, ele tem um bonus de 10%\n",
    "\n",
    "#se ele vender menos que a meta bonus = 0"
   ]
  }
 ],
 "metadata": {
  "kernelspec": {
   "display_name": "Python 3",
   "language": "python",
   "name": "python3"
  },
  "language_info": {
   "codemirror_mode": {
    "name": "ipython",
    "version": 3
   },
   "file_extension": ".py",
   "mimetype": "text/x-python",
   "name": "python",
   "nbconvert_exporter": "python",
   "pygments_lexer": "ipython3",
   "version": "3.13.2"
  }
 },
 "nbformat": 4,
 "nbformat_minor": 5
}
