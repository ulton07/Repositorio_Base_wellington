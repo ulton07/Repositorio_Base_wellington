{
 "cells": [
  {
   "cell_type": "markdown",
   "id": "82b19377",
   "metadata": {},
   "source": [
    "### revisão"
   ]
  },
  {
   "cell_type": "code",
   "execution_count": 4,
   "id": "6816039f",
   "metadata": {},
   "outputs": [
    {
     "name": "stdout",
     "output_type": "stream",
     "text": [
      "Sua média e: 4.0\n",
      "recuperação\n"
     ]
    }
   ],
   "source": [
    "primeira_nota = float( input(\"digite sua primeira nota :\"))\n",
    "segunda_nota = float( input(\"digite sua segunda nota:\"))\n",
    "terceira_nota = float( input(\"digite sua terceira nota :\"))\n",
    "\n",
    "media = (primeira_nota + segunda_nota + terceira_nota) / 3\n",
    "print(\"Sua média e:\", media)\n",
    "\n",
    "\n",
    "if media>=5:\n",
    "    print(\"aprovado\")\n",
    "elif media == 4:\n",
    "    print(\"recuperação\")    \n",
    "else:\n",
    "    print(\"reprovado\")    "
   ]
  },
  {
   "cell_type": "markdown",
   "id": "17c8e8db",
   "metadata": {},
   "source": [
    "### vericar idade"
   ]
  },
  {
   "cell_type": "code",
   "execution_count": 14,
   "id": "2a963ad5",
   "metadata": {},
   "outputs": [
    {
     "name": "stdout",
     "output_type": "stream",
     "text": [
      "Sua idade é 19 anos \n",
      "Você é adulto.\n"
     ]
    }
   ],
   "source": [
    "# estou pedindo a idade\n",
    "idade = int(input(\"digite sua idade\"))\n",
    "\n",
    "# mostrando a idade\n",
    "print(f\"Sua idade é {idade} anos \")\n",
    "\n",
    "\n",
    "# verica idadade se igual a 18\n",
    "if idade ==18:\n",
    "    print(\"Você é maior de idade.\")\n",
    "\n",
    "# verifica a idade se e maior que 18 ou menor que 60\n",
    "elif idade >18 and idade < 60:\n",
    "    print(\"Você é adulto.\")\n",
    "\n",
    "# maior que 60\n",
    "\n",
    "elif idade > 60:\n",
    "    \n",
    "    print(\"Você é idoso.\")\n",
    "\n",
    "# menor de idade\n",
    "else:\n",
    "    print(\"menor de idade\")"
   ]
  },
  {
   "cell_type": "markdown",
   "id": "eebefd29",
   "metadata": {},
   "source": [
    "### automatização"
   ]
  },
  {
   "cell_type": "code",
   "execution_count": 6,
   "id": "e2237782",
   "metadata": {},
   "outputs": [],
   "source": [
    "#importei pyautogui e apelidei ele de aut\n",
    "import pyautogui as aut\n",
    "# apertando a tecla windows\n",
    "aut.press(\"win\")\n",
    "# espera 1 segundo\n",
    "aut.sleep(1)\n",
    "# escrevendo blocos de nota\n",
    "aut.write(\"blocos de nota\")\n",
    "# espera 1 segundo\n",
    "aut.sleep(1)\n",
    "# apertar o botão enter\n",
    "aut.press(\"Enter\")\n",
    "# espera 1 segundo\n",
    "aut.sleep(1)\n",
    "# apertar o botão enter\n",
    "aut.press(\"Enter\")\n",
    "# escrevendo bom dia\n",
    "aut.write(\"bom dia\")\n"
   ]
  },
  {
   "cell_type": "markdown",
   "id": "9ff8085e",
   "metadata": {},
   "source": [
    "### google"
   ]
  },
  {
   "cell_type": "code",
   "execution_count": 109,
   "id": "e45e3858",
   "metadata": {},
   "outputs": [],
   "source": [
    "#importei pyautogui e apelidei ele de aut\n",
    "import pyautogui as aut\n",
    "# apertando a tecla windows\n",
    "aut.press(\"win\")\n",
    "# espera 1 segundo\n",
    "aut.sleep(1)\n",
    "# escrevendo google\n",
    "aut.write(\"google\")\n",
    "# espera 1 segundo\n",
    "aut.sleep(1)\n",
    "# apertar o botão enter\n",
    "aut.press(\"Enter\")\n",
    "# espera 1 segundo\n",
    "aut.sleep(1)\n",
    "# apertar o botão enter\n",
    "aut.press(\"Enter\")\n",
    "# escrevendo messi careca videos\n",
    "aut.write(\"messi careca videos\")\n",
    "aut.press(\"enter\")\n",
    "aut.sleep(1)\n",
    "# uso isso para mexer o mouse\n",
    "aut.moveTo(331,637)\n",
    "# uso para dar um click\n",
    "aut.click()"
   ]
  },
  {
   "cell_type": "code",
   "execution_count": 41,
   "id": "d6c9e291",
   "metadata": {},
   "outputs": [],
   "source": [
    "# uso isso para pegar a posição do mouse\n",
    "import pyautogui as aut\n",
    "aut.mouseInfo()"
   ]
  },
  {
   "cell_type": "markdown",
   "id": "5118bc50",
   "metadata": {},
   "source": [
    "### youtuber"
   ]
  },
  {
   "cell_type": "code",
   "execution_count": null,
   "id": "7b290355",
   "metadata": {},
   "outputs": [],
   "source": [
    "link =\"youtube.com/channel/UCUZHFZ9jIKrLroW8LcyJEQQ\"\n",
    "\n",
    "#importei pyautogui e apelidei ele de aut\n",
    "import pyautogui as aut\n",
    "# apertando a tecla windows\n",
    "aut.press(\"win\")\n",
    "# espera 1 segundo\n",
    "aut.sleep(3)\n",
    "# escrevendo google\n",
    "aut.write(link)\n",
    "# espera 1 segundo\n",
    "aut.sleep(3)\n",
    "# apertar o botão enter\n",
    "aut.press(\"Enter\")\n",
    "# espera 1 segundo\n",
    "aut.sleep(3)\n",
    "# apertar o botão enter\n",
    "aut.press(\"Enter\")\n",
    "\n",
    "# uso isso para mexer o mouse\n",
    "aut.moveTo(667,113)\n",
    "aut.sleep(1)\n",
    "# uso para dar um click\n",
    "aut.click()\n",
    "# escrevendo COMO COMEÇAR NO MARKETING DIGITAL SEM CURSO EM 2024! \n",
    "aut.write(\"COMO COMEÇAR NO MARKETING DIGITAL SEM CURSO EM 2024! \")\n",
    "aut.press(\"enter\")\n",
    "aut.sleep(3)\n",
    "aut.moveTo(741,899)\n",
    "aut.click()\n"
   ]
  },
  {
   "cell_type": "markdown",
   "id": "b908c28c",
   "metadata": {},
   "source": [
    "### gmail"
   ]
  },
  {
   "cell_type": "code",
   "execution_count": null,
   "id": "0158a520",
   "metadata": {},
   "outputs": [],
   "source": [
    "#importei pyautogui e apelidei ele de aut\n",
    "import pyautogui as aut\n",
    "# apertando a tecla windows\n",
    "aut.press(\"win\")\n",
    "# espera 1 segundo\n",
    "aut.sleep(3)\n",
    "# escrevendo google\n",
    "aut.write(\"google\")\n",
    "# espera 1 segundo\n",
    "aut.sleep(3)\n",
    "# apertar o botão enter\n",
    "aut.press(\"Enter\")\n",
    "aut.sleep(3)\n",
    "aut.write(\"gmail\")\n",
    "aut.sleep(3)\n",
    "aut.press(\"enter\")\n",
    "aut.moveTo(373,820)\n",
    "aut.sleep(3)\n",
    "aut.doubleClick()\n",
    "aut.moveTo(441,411)\n",
    "aut.sleep(3)\n",
    "aut.doubleClick()\n",
    "aut.moveTo(738,374)\n",
    "aut.sleep(3)\n",
    "aut.doubleClick()\n",
    "aut.moveTo(769,491)\n",
    "aut.sleep(3)\n",
    "aut.click()\n",
    "aut.moveTo(758,670)\n",
    "aut.sleep(3)\n",
    "aut.click()\n",
    "aut.sleep(1)\n",
    "aut.write(\"que Deus te guarde e esqueça onde\")\n"
   ]
  },
  {
   "cell_type": "markdown",
   "id": "93286d63",
   "metadata": {},
   "source": [
    "### JOGO"
   ]
  },
  {
   "cell_type": "code",
   "execution_count": null,
   "id": "b4e392bb",
   "metadata": {},
   "outputs": [],
   "source": [
    "#importei pyautogui e apelidei ele de aut\n",
    "import pyautogui as aut\n",
    "# apertando a tecla windows\n",
    "aut.press(\"win\")\n",
    "# espera 1 segundo\n",
    "aut.sleep(3)\n",
    "# escrevendo google\n",
    "aut.write(\"google\")\n",
    "# espera 1 segundo\n",
    "aut.sleep(3)\n",
    "# apertar o botão enter\n",
    "aut.press(\"Enter\")\n",
    "aut.sleep(3)\n",
    "aut.write(\"canva\")\n",
    "aut.sleep(3)\n",
    "aut.press(\"enter\")\n",
    "aut.sleep(3)\n",
    "aut.moveTo(533,368)\n",
    "aut.sleep(3)\n",
    "aut.click()\n",
    "aut.moveTo(609,492)\n",
    "aut.sleep(3)\n",
    "aut.click()\n",
    "aut.moveTo(210,229)\n",
    "aut.sleep(3)\n",
    "aut.click()\n",
    "aut.moveTo(357,578)\n",
    "aut.sleep(3)\n",
    "aut.click()\n",
    "aut.moveTo(414,433)\n",
    "aut.sleep(3)\n",
    "aut.click()\n",
    "aut.moveTo(1032,154)\n",
    "aut.sleep(3)\n",
    "aut.click()\n",
    "aut.moveTo(949,563)\n",
    "aut.sleep(3)\n",
    "aut.doubleClick()\n",
    "aut.sleep(0.5)\n",
    "aut.doubleClick()\n",
    "aut.moveTo(812,296)\n",
    "aut.sleep(3)\n",
    "aut.click()\n",
    "aut.write(\"matheus\")\n",
    "aut.moveTo(833,457)\n",
    "aut.sleep(3)\n",
    "aut.click()\n",
    "aut.sleep(3)\n",
    "aut.click()\n",
    "aut.write(\"sou bonito sou gostoso jogo bola e danco\")\n",
    "aut.moveTo(861,549)\n",
    "aut.sleep(3)\n",
    "aut.click()"
   ]
  },
  {
   "cell_type": "markdown",
   "id": "bdfdc9a0",
   "metadata": {},
   "source": [
    "### tigrinho"
   ]
  },
  {
   "cell_type": "code",
   "execution_count": 2,
   "id": "490c8fa1",
   "metadata": {},
   "outputs": [],
   "source": [
    "#importei pyautogui e apelidei ele de aut\n",
    "import pyautogui as aut\n",
    "# apertando a tecla windows\n",
    "aut.press(\"win\")\n",
    "# espera 1 segundo\n",
    "aut.sleep(3)\n",
    "# escrevendo google\n",
    "aut.write(\"google\")\n",
    "# espera 1 segundo\n",
    "aut.sleep(3)\n",
    "# apertar o botão enter\n",
    "aut.press(\"Enter\")\n",
    "aut.moveTo(1125,1053)\n",
    "aut.sleep(3)\n",
    "aut.click()\n",
    "aut.moveTo(201,168)\n",
    "aut.sleep(3)\n",
    "aut.click()\n",
    "aut.moveTo(366,130)\n",
    "aut.sleep(3)\n",
    "aut.click()\n",
    "aut.sleep(4)\n",
    "aut.write(\"wellington\")\n",
    "aut.sleep(3)\n",
    "aut.press(\"enter\")\n",
    "aut.write(\"ronilda\")\n",
    "aut.sleep(2)\n",
    "aut.press(\"enter\")\n",
    "aut.write(\"jhony\")\n",
    "aut.sleep(4)\n",
    "aut.press(\"enter\")\n",
    "aut.write(\"cocaina\")\n",
    "aut.sleep(3)\n",
    "aut.press(\"enter\")\n",
    "aut.write(\"mario\")\n",
    "aut.sleep(3)\n",
    "aut.press(\"enter\")\n",
    "aut.write(\"python\")\n",
    "aut.sleep(3)\n",
    "aut.press(\"enter\")"
   ]
  },
  {
   "cell_type": "code",
   "execution_count": null,
   "id": "ff810eec",
   "metadata": {},
   "outputs": [],
   "source": []
  }
 ],
 "metadata": {
  "kernelspec": {
   "display_name": "Python 3",
   "language": "python",
   "name": "python3"
  },
  "language_info": {
   "codemirror_mode": {
    "name": "ipython",
    "version": 3
   },
   "file_extension": ".py",
   "mimetype": "text/x-python",
   "name": "python",
   "nbconvert_exporter": "python",
   "pygments_lexer": "ipython3",
   "version": "3.13.2"
  }
 },
 "nbformat": 4,
 "nbformat_minor": 5
}
